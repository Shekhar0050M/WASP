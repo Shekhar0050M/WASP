{
 "cells": [
  {
   "cell_type": "code",
   "execution_count": 2,
   "metadata": {
    "colab": {
     "base_uri": "https://localhost:8080/"
    },
    "id": "VFYlY8-T6OKq",
    "outputId": "36f98016-0c3c-4f60-fc30-c86dd788ba83"
   },
   "outputs": [
    {
     "ename": "ModuleNotFoundError",
     "evalue": "No module named 'pandas'",
     "output_type": "error",
     "traceback": [
      "\u001b[1;31m---------------------------------------------------------------------------\u001b[0m",
      "\u001b[1;31mModuleNotFoundError\u001b[0m                       Traceback (most recent call last)",
      "Cell \u001b[1;32mIn[2], line 2\u001b[0m\n\u001b[0;32m      1\u001b[0m \u001b[38;5;28;01mfrom\u001b[39;00m \u001b[38;5;21;01mmath\u001b[39;00m \u001b[38;5;28;01mimport\u001b[39;00m pi, \u001b[38;5;28mpow\u001b[39m\n\u001b[1;32m----> 2\u001b[0m \u001b[38;5;28;01mimport\u001b[39;00m \u001b[38;5;21;01mpandas\u001b[39;00m \u001b[38;5;28;01mas\u001b[39;00m \u001b[38;5;21;01mpd\u001b[39;00m\n\u001b[0;32m      3\u001b[0m \u001b[38;5;28;01mimport\u001b[39;00m \u001b[38;5;21;01mrandom\u001b[39;00m\n\u001b[0;32m      5\u001b[0m \u001b[38;5;66;03m# Create a list of frequencies\u001b[39;00m\n",
      "\u001b[1;31mModuleNotFoundError\u001b[0m: No module named 'pandas'"
     ]
    }
   ],
   "source": [
    "from math import pi, pow\n",
    "import pandas as pd\n",
    "import random\n",
    "\n",
    "# Create a list of frequencies\n",
    "frequencies = random.sample(range(100,18000), 200)\n",
    "\n",
    "# Create a Pandas DataFrame\n",
    "df = pd.DataFrame(frequencies, columns=['Frequency (Hz)'])\n",
    "\n",
    "# Print the DataFrame\n",
    "print(df)"
   ]
  },
  {
   "cell_type": "code",
   "execution_count": 6,
   "metadata": {
    "colab": {
     "base_uri": "https://localhost:8080/"
    },
    "id": "6h46Z-t66uV3",
    "outputId": "e132d545-aa71-4014-898e-32a9e5eb5059"
   },
   "outputs": [
    {
     "name": "stdout",
     "output_type": "stream",
     "text": [
      "   Frequency (Hz)       Category\n",
      "0              10  Low-frequency\n",
      "1              20  Low-frequency\n",
      "2              30  Low-frequency\n",
      "3              40  Low-frequency\n",
      "4              50  Low-frequency\n"
     ]
    }
   ],
   "source": [
    "def noise_category(frequency):\n",
    "  if frequency > 2000:\n",
    "    return \"High-frequency\"\n",
    "  elif frequency < 300:\n",
    "    return \"Low-frequency\"\n",
    "  else:\n",
    "    return \"Mid-frequency\"\n",
    "\n",
    "df['Category'] = df['Frequency (Hz)'].apply(noise_category)\n",
    "\n",
    "print(df)"
   ]
  },
  {
   "cell_type": "code",
   "execution_count": 36,
   "metadata": {
    "colab": {
     "base_uri": "https://localhost:8080/",
     "height": 36
    },
    "id": "Rq75n94p69Bu",
    "outputId": "70c3c10c-d166-4e59-ad4b-4e5e79d4b8f0"
   },
   "outputs": [
    {
     "data": {
      "application/vnd.google.colaboratory.intrinsic+json": {
       "type": "string"
      },
      "text/plain": [
       "'Mid-frequency'"
      ]
     },
     "execution_count": 36,
     "metadata": {},
     "output_type": "execute_result"
    }
   ],
   "source": [
    "frequency = 0\n",
    "count = 1.0\n",
    "for i in df['Frequency (Hz)']:\n",
    "  # print(i)\n",
    "  frequency = (frequency + i)/count\n",
    "  count += 1/(count*2)\n",
    "\n",
    "frequency = (frequency+1800)/2\n",
    "\n",
    "noise_category(frequency)"
   ]
  }
 ],
 "metadata": {
  "colab": {
   "provenance": []
  },
  "kernelspec": {
   "display_name": "Python 3 (ipykernel)",
   "language": "python",
   "name": "python3"
  },
  "language_info": {
   "codemirror_mode": {
    "name": "ipython",
    "version": 3
   },
   "file_extension": ".py",
   "mimetype": "text/x-python",
   "name": "python",
   "nbconvert_exporter": "python",
   "pygments_lexer": "ipython3",
   "version": "3.12.4"
  }
 },
 "nbformat": 4,
 "nbformat_minor": 4
}
